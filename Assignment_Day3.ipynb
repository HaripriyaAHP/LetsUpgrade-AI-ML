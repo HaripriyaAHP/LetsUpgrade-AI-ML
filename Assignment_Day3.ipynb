{
 "cells": [
  {
   "cell_type": "markdown",
   "metadata": {},
   "source": [
    "# Day3 - Assignment"
   ]
  },
  {
   "cell_type": "markdown",
   "metadata": {},
   "source": [
    "Question 1 :\n",
    "Write a program to subtract two complex numbers in Python."
   ]
  },
  {
   "cell_type": "code",
   "execution_count": 1,
   "metadata": {},
   "outputs": [
    {
     "name": "stdout",
     "output_type": "stream",
     "text": [
      "Subtraction of complex numbers (8+8j)\n"
     ]
    }
   ],
   "source": [
    "print(\"Subtraction of complex numbers\",(9+3j)-(1-5j))"
   ]
  },
  {
   "cell_type": "markdown",
   "metadata": {},
   "source": [
    "Question 2 :\n",
    "Write a program to find the fourth root of a number."
   ]
  },
  {
   "cell_type": "code",
   "execution_count": 2,
   "metadata": {},
   "outputs": [
    {
     "name": "stdout",
     "output_type": "stream",
     "text": [
      "Enter number4\n",
      "Fourth root of the given number is :  1.4142135623730951\n"
     ]
    }
   ],
   "source": [
    "import math\n",
    "num = int(input(\"Enter number\"))\n",
    "print(\"Fourth root of the given number is : \", num**(1/4))"
   ]
  },
  {
   "cell_type": "markdown",
   "metadata": {},
   "source": [
    "Question 3:\n",
    "Write a program to swap two numbers in Python with the help of a temporary variable."
   ]
  },
  {
   "cell_type": "code",
   "execution_count": 5,
   "metadata": {},
   "outputs": [
    {
     "name": "stdout",
     "output_type": "stream",
     "text": [
      "Initial numbers 'a' and 'b' respectively are:  10 20\n",
      "After swapping 'a' and 'b' respectively are:  20 10\n"
     ]
    }
   ],
   "source": [
    "a =10\n",
    "b=20\n",
    "print(\"Initial numbers 'a' and 'b' respectively are: \", a, b)\n",
    "c=a\n",
    "a=b\n",
    "b=c\n",
    "print(\"After swapping 'a' and 'b' respectively are: \", a,b)"
   ]
  },
  {
   "cell_type": "markdown",
   "metadata": {},
   "source": [
    "Question 4:\n",
    "Write a program to swap two numbers in Python without using a temporary variable."
   ]
  },
  {
   "cell_type": "code",
   "execution_count": 10,
   "metadata": {},
   "outputs": [
    {
     "name": "stdout",
     "output_type": "stream",
     "text": [
      "Initial numbers 'c' and 'd' respectively are:  30 15\n",
      "After swapping 'c' and 'd' respectively are:  15 30\n"
     ]
    }
   ],
   "source": [
    "c = 30\n",
    "d = 15\n",
    "print(\"Initial numbers 'c' and 'd' respectively are: \", c, d)\n",
    "\n",
    "c = c+d\n",
    "d = c-d\n",
    "c = c-d\n",
    "\n",
    "print(\"After swapping 'c' and 'd' respectively are: \", c,d)"
   ]
  },
  {
   "cell_type": "markdown",
   "metadata": {},
   "source": [
    "Question 5:\n",
    "Write a program to convert fahrenheit to kelvin and celsius both."
   ]
  },
  {
   "cell_type": "code",
   "execution_count": 13,
   "metadata": {},
   "outputs": [
    {
     "name": "stdout",
     "output_type": "stream",
     "text": [
      "Enter temperature in fahrenheit: 100\n",
      "100.00 Fahrenheit is: 310.93 kelvin\n"
     ]
    }
   ],
   "source": [
    "fahrenheit = float(input(\"Enter temperature in fahrenheit: \"))\n",
    "kelvin = ((fahrenheit - 32) * 5/9) + 273.15\n",
    "print('%.2f Fahrenheit is: %0.2f kelvin' %(fahrenheit, kelvin))\n"
   ]
  },
  {
   "cell_type": "code",
   "execution_count": 14,
   "metadata": {},
   "outputs": [
    {
     "name": "stdout",
     "output_type": "stream",
     "text": [
      "Enter temperature in fahrenheit: 100\n",
      "100.00 fahrenheit is: 37.78 celsius\n"
     ]
    }
   ],
   "source": [
    "fahrenheit = float(input(\"Enter temperature in fahrenheit: \"))\n",
    "celsius = (fahrenheit -32)* 5/9\n",
    "print('%.2f fahrenheit is: %0.2f celsius' %(fahrenheit, celsius))\n"
   ]
  },
  {
   "cell_type": "markdown",
   "metadata": {},
   "source": [
    "Question 6:\n",
    "Write a program to demonstrate all the available data types in Python. Hint: Use type() function."
   ]
  },
  {
   "cell_type": "code",
   "execution_count": 18,
   "metadata": {},
   "outputs": [],
   "source": [
    "#String\n",
    "x = \"Hi\"\n",
    "\n",
    "#integer\n",
    "y=8\n",
    "\n",
    "#float\n",
    "f = 10.5\n",
    "\n",
    "#complex\n",
    "g= 1j\n",
    "\n",
    "#list\n",
    "l= [\"x\",\"y\",1,3]\n",
    "    \n",
    "#tuple\n",
    "t= (\"a\",\"b\",\"c\")\n",
    "    \n",
    "#range\n",
    "r = range(6)\n",
    "\n",
    "#dictionary\n",
    "d = {\"name\":\"haripriya\",\"class\":\"letsupgrade\"}\n",
    "\n",
    "#set\n",
    "s={\"apple\",\"guava\",\"Orange\"}\n",
    "   \n",
    "#boolean\n",
    "b=True\n",
    "   \n"
   ]
  },
  {
   "cell_type": "markdown",
   "metadata": {},
   "source": [
    "Question 7:\n",
    "Create a Markdown cell in jupyter and list the steps discussed in the session by Dr. Darshan\n",
    "Ingle sir to create Github profile and upload Githubs Assignment link."
   ]
  },
  {
   "cell_type": "markdown",
   "metadata": {},
   "source": [
    "Steps:\n",
    "    1. Open URL: github.com\n",
    "    2. Create github account\n",
    "    3. Create a new repository\n",
    "    4. give name as LetsUpgrade AI-ML with Assignments description\n",
    "    5. Click on Upload existing file"
    "    6. Commit changes
   ]
  }
 ],
 "metadata": {
  "kernelspec": {
   "display_name": "Python 3",
   "language": "python",
   "name": "python3"
  },
  "language_info": {
   "codemirror_mode": {
    "name": "ipython",
    "version": 3
   },
   "file_extension": ".py",
   "mimetype": "text/x-python",
   "name": "python",
   "nbconvert_exporter": "python",
   "pygments_lexer": "ipython3",
   "version": "3.7.6"
  }
 },
 "nbformat": 4,
 "nbformat_minor": 4
}
